{
  "nbformat": 4,
  "nbformat_minor": 0,
  "metadata": {
    "colab": {
      "provenance": [],
      "collapsed_sections": [],
      "authorship_tag": "ABX9TyOwsqnC79EeXVw7OSTR0LPk",
      "include_colab_link": true
    },
    "kernelspec": {
      "name": "python3",
      "display_name": "Python 3"
    },
    "language_info": {
      "name": "python"
    },
    "accelerator": "GPU",
    "gpuClass": "standard"
  },
  "cells": [
    {
      "cell_type": "markdown",
      "metadata": {
        "id": "view-in-github",
        "colab_type": "text"
      },
      "source": [
        "<a href=\"https://colab.research.google.com/github/bhavish-1/convolutional_neural_network/blob/master/Building_convolutional_Network.ipynb\" target=\"_parent\"><img src=\"https://colab.research.google.com/assets/colab-badge.svg\" alt=\"Open In Colab\"/></a>"
      ]
    },
    {
      "cell_type": "code",
      "execution_count": null,
      "metadata": {
        "id": "YRWKG8NLRI_h",
        "colab": {
          "base_uri": "https://localhost:8080/"
        },
        "outputId": "764191eb-15ac-431d-9756-23ae49b3156b"
      },
      "outputs": [
        {
          "output_type": "stream",
          "name": "stdout",
          "text": [
            "--2022-09-01 08:06:27--  https://storage.googleapis.com/ztm_tf_course/food_vision/pizza_steak.zip\n",
            "Resolving storage.googleapis.com (storage.googleapis.com)... 142.250.4.128, 74.125.200.128, 74.125.130.128, ...\n",
            "Connecting to storage.googleapis.com (storage.googleapis.com)|142.250.4.128|:443... connected.\n",
            "HTTP request sent, awaiting response... 200 OK\n",
            "Length: 109540975 (104M) [application/zip]\n",
            "Saving to: ‘pizza_steak.zip’\n",
            "\n",
            "pizza_steak.zip     100%[===================>] 104.47M   174MB/s    in 0.6s    \n",
            "\n",
            "2022-09-01 08:06:28 (174 MB/s) - ‘pizza_steak.zip’ saved [109540975/109540975]\n",
            "\n"
          ]
        }
      ],
      "source": [
        "import zipfile\n",
        "!wget https://storage.googleapis.com/ztm_tf_course/food_vision/pizza_steak.zip\n",
        "\n",
        "zip_ref = zipfile.ZipFile(\"pizza_steak.zip\", \"r\")\n",
        "zip_ref.extractall()\n",
        "zip_ref.close()"
      ]
    },
    {
      "cell_type": "code",
      "source": [
        "#inspecting the data ......\n",
        "!ls pizza_steak"
      ],
      "metadata": {
        "id": "4DJOgzZYIoo0",
        "colab": {
          "base_uri": "https://localhost:8080/"
        },
        "outputId": "0489875e-13cd-40b7-ec29-fc621c165a57"
      },
      "execution_count": null,
      "outputs": [
        {
          "output_type": "stream",
          "name": "stdout",
          "text": [
            "test  train\n"
          ]
        }
      ]
    },
    {
      "cell_type": "code",
      "source": [
        "!ls pizza_steak/train/"
      ],
      "metadata": {
        "id": "muUPoJBnKQU_",
        "colab": {
          "base_uri": "https://localhost:8080/"
        },
        "outputId": "80d6027b-83f3-4b12-e428-02f2d63e48d4"
      },
      "execution_count": null,
      "outputs": [
        {
          "output_type": "stream",
          "name": "stdout",
          "text": [
            "pizza  steak\n"
          ]
        }
      ]
    },
    {
      "cell_type": "code",
      "source": [
        "!ls pizza_steak/test/pizza"
      ],
      "metadata": {
        "colab": {
          "base_uri": "https://localhost:8080/"
        },
        "id": "Z18Ijf6RA75y",
        "outputId": "796626d1-5109-405d-ed3d-8ba5720bf763"
      },
      "execution_count": null,
      "outputs": [
        {
          "output_type": "stream",
          "name": "stdout",
          "text": [
            "1001116.jpg  1507019.jpg  2242047.jpg  2944567.jpg  3669673.jpg  556507.jpg\n",
            "1032754.jpg  1512557.jpg  22489.jpg    296426.jpg   3724187.jpg  565112.jpg\n",
            "103708.jpg   153195.jpg   2250611.jpg  2971095.jpg  3724353.jpg  573054.jpg\n",
            "1060407.jpg  1555015.jpg  226472.jpg   2992605.jpg  3724416.jpg  614236.jpg\n",
            "106507.jpg   1594097.jpg  2265512.jpg  2997525.jpg  3728155.jpg  614981.jpg\n",
            "1067986.jpg  1618659.jpg  2276783.jpg  300157.jpg   3729167.jpg  61656.jpg\n",
            "1106738.jpg  1636919.jpg  2296393.jpg  3042459.jpg  373847.jpg\t 625434.jpg\n",
            "1119571.jpg  1655630.jpg  2320458.jpg  3049449.jpg  3754474.jpg  645087.jpg\n",
            "11297.jpg    1686938.jpg  2323860.jpg  3092704.jpg  3758160.jpg  648055.jpg\n",
            "1152100.jpg  1687143.jpg  2343304.jpg  309892.jpg   376625.jpg\t 65128.jpg\n",
            "1179703.jpg  1691503.jpg  2392727.jpg  3174637.jpg  3770514.jpg  666569.jpg\n",
            "1180001.jpg  1694874.jpg  2398925.jpg  321526.jpg   3784357.jpg  678708.jpg\n",
            "1180273.jpg  1765727.jpg  2406842.jpg  3216107.jpg  3785667.jpg  714866.jpg\n",
            "1183595.jpg  177513.jpg   242976.jpg   3248869.jpg  3793004.jpg  723745.jpg\n",
            "1202689.jpg  1843754.jpg  2478048.jpg  324942.jpg   380739.jpg\t 724290.jpg\n",
            "121960.jpg   1895182.jpg  2478221.jpg  3261551.jpg  3814200.jpg  728260.jpg\n",
            "1220156.jpg  1925494.jpg  248199.jpg   3281205.jpg  3827990.jpg  729262.jpg\n",
            "1223284.jpg  194643.jpg   2508316.jpg  3282393.jpg  3898047.jpg  771336.jpg\n",
            "1226346.jpg  194784.jpg   2508636.jpg  328965.jpg   3913440.jpg  788315.jpg\n",
            "1228171.jpg  1949644.jpg  2514438.jpg  3296507.jpg  3919151.jpg  790058.jpg\n",
            "124815.jpg   195160.jpg   2517724.jpg  3296907.jpg  395662.jpg\t 796922.jpg\n",
            "1265335.jpg  1962101.jpg  2521769.jpg  3316410.jpg  397910.jpg\t 800546.jpg\n",
            "1275885.jpg  1980749.jpg  2542065.jpg  331644.jpg   398345.jpg\t 80750.jpg\n",
            "1280320.jpg  1983369.jpg  2543207.jpg  335474.jpg   398812.jpg\t 833711.jpg\n",
            "129666.jpg   1986128.jpg  254812.jpg   3375083.jpg  40449.jpg\t 837119.jpg\n",
            "1315645.jpg  1991586.jpg  2549661.jpg  3376617.jpg  415551.jpg\t 849291.jpg\n",
            "1342321.jpg  1999711.jpg  2572488.jpg  3385460.jpg  416067.jpg\t 852436.jpg\n",
            "1380247.jpg  2003290.jpg  2582289.jpg  3392194.jpg  418251.jpg\t 863509.jpg\n",
            "138961.jpg   2019408.jpg  2583389.jpg  341377.jpg   419962.jpg\t 89197.jpg\n",
            "1398213.jpg  204151.jpg   2605853.jpg  3430418.jpg  420409.jpg\t 897300.jpg\n",
            "139952.jpg   2082495.jpg  2615100.jpg  343480.jpg   430904.jpg\t 930553.jpg\n",
            "139987.jpg   2101820.jpg  2619955.jpg  3442426.jpg  441659.jpg\t 94215.jpg\n",
            "140016.jpg   2111981.jpg  2631321.jpg  344397.jpg   447914.jpg\t 96357.jpg\n",
            "1412011.jpg  2124579.jpg  2719697.jpg  3456604.jpg  44810.jpg\t 969461.jpg\n",
            "1445608.jpg  212995.jpg   2782998.jpg  346091.jpg   457350.jpg\t 971934.jpg\n",
            "144631.jpg   2157510.jpg  2827154.jpg  3475871.jpg  476421.jpg\t 976107.jpg\n",
            "1459760.jpg  2161321.jpg  2841536.jpg  3486640.jpg  482858.jpg\t 979933.jpg\n",
            "1475479.jpg  2165223.jpg  2870405.jpg  3497151.jpg  513415.jpg\t 98607.jpg\n",
            "1484836.jpg  2195935.jpg  2871261.jpg  3581181.jpg  522543.jpg\t 99604.jpg\n",
            "148765.jpg   2203687.jpg  2880804.jpg  3586083.jpg  53217.jpg\t 998005.jpg\n",
            "1503858.jpg  2218680.jpg  2901001.jpg  3612981.jpg  537575.jpg\n",
            "1506213.jpg  2236338.jpg  293433.jpg   3650727.jpg  540882.jpg\n"
          ]
        }
      ]
    },
    {
      "cell_type": "code",
      "source": [
        "import os\n",
        "for dirpath, dirnames, filenames in os.walk(\"pizza_steak\"):\n",
        "  print(f\"there are {len(dirnames)} directories and {len(filenames)} images in '{dirpath}'.\")"
      ],
      "metadata": {
        "colab": {
          "base_uri": "https://localhost:8080/"
        },
        "id": "mJhyfL1SBMxx",
        "outputId": "16d1eb6d-55ae-4b86-fdf0-ca7770260199"
      },
      "execution_count": null,
      "outputs": [
        {
          "output_type": "stream",
          "name": "stdout",
          "text": [
            "there are 2 directories and 0 images in 'pizza_steak'.\n",
            "there are 2 directories and 0 images in 'pizza_steak/train'.\n",
            "there are 0 directories and 750 images in 'pizza_steak/train/steak'.\n",
            "there are 0 directories and 750 images in 'pizza_steak/train/pizza'.\n",
            "there are 2 directories and 0 images in 'pizza_steak/test'.\n",
            "there are 0 directories and 250 images in 'pizza_steak/test/steak'.\n",
            "there are 0 directories and 250 images in 'pizza_steak/test/pizza'.\n"
          ]
        }
      ]
    },
    {
      "cell_type": "code",
      "source": [
        "# for viewing an image\n",
        "\n",
        "import matplotlib.pyplot as plt\n",
        "import matplotlib.image as mpimg\n",
        "import random\n",
        "def view_random_image(target_dir, target_class):\n",
        "  target_folder = target_dir + target_class\n",
        "  random_image = random.sample(os.listdir(target_folder), 1)\n",
        "  img = mpimg.imread(target_folder + \"/\" + random_image[0])\n",
        "  plt.imshow(img)\n",
        "  plt.title(target_class)\n",
        "  plt.axis(\"off\");\n",
        "  return img"
      ],
      "metadata": {
        "id": "Lec4YaQECVbn"
      },
      "execution_count": null,
      "outputs": []
    },
    {
      "cell_type": "code",
      "source": [
        "img = view_random_image(target_dir=\"pizza_steak/train/\",\n",
        "                        target_class=\"steak\")"
      ],
      "metadata": {
        "colab": {
          "base_uri": "https://localhost:8080/",
          "height": 264
        },
        "id": "KraXIxR7FFUT",
        "outputId": "6f0ca1f5-4a79-4ae7-a798-7ebee1d33fcd"
      },
      "execution_count": null,
      "outputs": [
        {
          "output_type": "display_data",
          "data": {
            "text/plain": [
              "<Figure size 432x288 with 1 Axes>"
            ],
            "image/png": "[encoded data removed]"
          },
          "metadata": {
            "needs_background": "light"
          }
        }
      ]
    },
    {
      "cell_type": "code",
      "source": [
        "img"
      ],
      "metadata": {
        "colab": {
          "base_uri": "https://localhost:8080/"
        },
        "id": "Gqj2IVrN3-ZH",
        "outputId": "e0096a54-e376-4941-9c73-97c42fdb4b05"
      },
      "execution_count": null,
      "outputs": [
        {
          "output_type": "execute_result",
          "data": {
            "text/plain": [
              "array([[[ 93,  32,  27],\n",
              "        [ 99,  38,  33],\n",
              "        [ 98,  39,  33],\n",
              "        ...,\n",
              "        [ 27,  19,  17],\n",
              "        [ 28,  19,  20],\n",
              "        [ 27,  18,  19]],\n",
              "\n",
              "       [[ 98,  39,  33],\n",
              "        [100,  41,  35],\n",
              "        [ 99,  40,  34],\n",
              "        ...,\n",
              "        [ 32,  22,  21],\n",
              "        [ 29,  20,  21],\n",
              "        [ 27,  18,  19]],\n",
              "\n",
              "       [[102,  45,  38],\n",
              "        [102,  45,  38],\n",
              "        [101,  44,  37],\n",
              "        ...,\n",
              "        [ 34,  22,  22],\n",
              "        [ 31,  21,  20],\n",
              "        [ 28,  18,  17]],\n",
              "\n",
              "       ...,\n",
              "\n",
              "       [[232, 208, 174],\n",
              "        [228, 204, 170],\n",
              "        [226, 201, 170],\n",
              "        ...,\n",
              "        [109,  91,  67],\n",
              "        [111,  93,  69],\n",
              "        [111,  93,  71]],\n",
              "\n",
              "       [[232, 208, 172],\n",
              "        [230, 206, 172],\n",
              "        [228, 204, 170],\n",
              "        ...,\n",
              "        [114,  96,  72],\n",
              "        [120, 102,  80],\n",
              "        [122, 104,  82]],\n",
              "\n",
              "       [[232, 208, 172],\n",
              "        [230, 206, 170],\n",
              "        [229, 205, 171],\n",
              "        ...,\n",
              "        [118, 100,  76],\n",
              "        [127, 109,  87],\n",
              "        [131, 113,  91]]], dtype=uint8)"
            ]
          },
          "metadata": {},
          "execution_count": 20
        }
      ]
    },
    {
      "cell_type": "code",
      "source": [
        "img.shape\n",
        "#converting pixel numbers to 0 and 1\n",
        "img/255"
      ],
      "metadata": {
        "colab": {
          "base_uri": "https://localhost:8080/"
        },
        "id": "-405loE84KlA",
        "outputId": "7a135d38-6231-4228-c918-fe0bbe6e08a6"
      },
      "execution_count": null,
      "outputs": [
        {
          "output_type": "execute_result",
          "data": {
            "text/plain": [
              "array([[[0.36470588, 0.1254902 , 0.10588235],\n",
              "        [0.38823529, 0.14901961, 0.12941176],\n",
              "        [0.38431373, 0.15294118, 0.12941176],\n",
              "        ...,\n",
              "        [0.10588235, 0.0745098 , 0.06666667],\n",
              "        [0.10980392, 0.0745098 , 0.07843137],\n",
              "        [0.10588235, 0.07058824, 0.0745098 ]],\n",
              "\n",
              "       [[0.38431373, 0.15294118, 0.12941176],\n",
              "        [0.39215686, 0.16078431, 0.1372549 ],\n",
              "        [0.38823529, 0.15686275, 0.13333333],\n",
              "        ...,\n",
              "        [0.1254902 , 0.08627451, 0.08235294],\n",
              "        [0.11372549, 0.07843137, 0.08235294],\n",
              "        [0.10588235, 0.07058824, 0.0745098 ]],\n",
              "\n",
              "       [[0.4       , 0.17647059, 0.14901961],\n",
              "        [0.4       , 0.17647059, 0.14901961],\n",
              "        [0.39607843, 0.17254902, 0.14509804],\n",
              "        ...,\n",
              "        [0.13333333, 0.08627451, 0.08627451],\n",
              "        [0.12156863, 0.08235294, 0.07843137],\n",
              "        [0.10980392, 0.07058824, 0.06666667]],\n",
              "\n",
              "       ...,\n",
              "\n",
              "       [[0.90980392, 0.81568627, 0.68235294],\n",
              "        [0.89411765, 0.8       , 0.66666667],\n",
              "        [0.88627451, 0.78823529, 0.66666667],\n",
              "        ...,\n",
              "        [0.42745098, 0.35686275, 0.2627451 ],\n",
              "        [0.43529412, 0.36470588, 0.27058824],\n",
              "        [0.43529412, 0.36470588, 0.27843137]],\n",
              "\n",
              "       [[0.90980392, 0.81568627, 0.6745098 ],\n",
              "        [0.90196078, 0.80784314, 0.6745098 ],\n",
              "        [0.89411765, 0.8       , 0.66666667],\n",
              "        ...,\n",
              "        [0.44705882, 0.37647059, 0.28235294],\n",
              "        [0.47058824, 0.4       , 0.31372549],\n",
              "        [0.47843137, 0.40784314, 0.32156863]],\n",
              "\n",
              "       [[0.90980392, 0.81568627, 0.6745098 ],\n",
              "        [0.90196078, 0.80784314, 0.66666667],\n",
              "        [0.89803922, 0.80392157, 0.67058824],\n",
              "        ...,\n",
              "        [0.4627451 , 0.39215686, 0.29803922],\n",
              "        [0.49803922, 0.42745098, 0.34117647],\n",
              "        [0.51372549, 0.44313725, 0.35686275]]])"
            ]
          },
          "metadata": {},
          "execution_count": 21
        }
      ]
    },
    {
      "cell_type": "code",
      "source": [
        "x = [1, 2, 3]\n",
        "y = [6, 69, 96]\n",
        "\n",
        "plt.plot(x, y)\n",
        "#plt.title(\"Linear graph\", color=\"red\", fontsize=25)\n",
        "#plt.xlabel(\"x-axis\")\n",
        "#plt.ylabel(\"y-axis\")\n",
        "#plt.show()\n",
        "plt.ylim(0, 1000)\n",
        "plt.xticks(x, labels=[\"one\", \"two\", \"three\", \"four\"])\n",
        "plt.show()\n",
        "plt.legend([\"bhavish\"])"
      ],
      "metadata": {
        "id": "BgUc7RWF411v",
        "colab": {
          "base_uri": "https://localhost:8080/",
          "height": 538
        },
        "outputId": "a55630dc-a8dd-463a-e850-dbfcf47f0cef"
      },
      "execution_count": null,
      "outputs": [
        {
          "output_type": "display_data",
          "data": {
            "text/plain": [
              "<Figure size 432x288 with 1 Axes>"
            ],
            "image/png": "[encoded data removed]"
          },
          "metadata": {
            "needs_background": "light"
          }
        },
        {
          "output_type": "execute_result",
          "data": {
            "text/plain": [
              "<matplotlib.legend.Legend at 0x7f28e61d7150>"
            ]
          },
          "metadata": {},
          "execution_count": 22
        },
        {
          "output_type": "display_data",
          "data": {
            "text/plain": [
              "<Figure size 432x288 with 1 Axes>"
            ],
            "image/png": "[encoded data removed]"
          },
          "metadata": {
            "needs_background": "light"
          }
        }
      ]
    },
    {
      "cell_type": "code",
      "source": [
        "# ploting the data -------------------------------------- check this one -----------------------------------------------------\n",
        "import matplotlib.pyplot as plt\n",
        "x = [2, 25, 54, 67, 88, 92, 55]\n",
        "y = [78, 56, 78, 45, 23, 98, 101]\n",
        "x1 = [10, 20, 30, 40 ,50]\n",
        "y1 = [20, 30, 40, 50, 60]\n",
        "plt.plot(x, y, color=\"yellow\", marker=\"x\", linestyle=\"--\")\n",
        "plt.plot(x1, y1, color=\"green\", marker=\"o\")\n",
        "plt.title(\"analysis\", fontsize=25, color=\"yellow\")\n",
        "plt.xlabel(\"x-axis\")\n",
        "plt.ylabel(\"y-axis\")\n",
        "plt.xlim(0, 110)\n",
        "plt.ylim(10, 150)\n",
        "\n",
        "plt.legend(\"plot\")\n",
        "plt.legend(\"dude\")\n",
        "\n",
        "plt.show()"
      ],
      "metadata": {
        "colab": {
          "base_uri": "https://localhost:8080/",
          "height": 304
        },
        "id": "MLvnzuGyhY89",
        "outputId": "fea27aa9-1ef8-4990-94ec-ccff3aed3822"
      },
      "execution_count": 1,
      "outputs": [
        {
          "output_type": "display_data",
          "data": {
            "text/plain": [
              "<Figure size 432x288 with 1 Axes>"
            ],
            "image/png": "[encoded data removed]"
          },
          "metadata": {
            "needs_background": "light"
          }
        }
      ]
    },
    {
      "cell_type": "code",
      "source": [
        "import tensorflow as tf\n",
        "from tensorflow.keras.preprocessing.image import ImageDataGenerator\n",
        "#set the seed\n",
        "tf.random.set_seed(42)\n",
        "\n",
        "# preprocess data (get all of the pixel values between 1 and o, also called as scaling / normalization )\n",
        "train_datagen = ImageDataGenerator(rescale=1./255)\n",
        "valid_datagen = ImageDataGenerator(rescale=1./255)\n",
        "#---- Image datagenerator what it does is reduces originaal pixel values between 0 and 1\n",
        "\n",
        "# setup the train and test directories\n",
        "train_dir = \"pizza_steak/train/\"\n",
        "test_dir = \"pizza_steak/test/\"\n",
        "\n",
        "# import data from directories and turn it into batches\n",
        "train_data = train_datagen.flow_from_directory(train_dir,\n",
        "                                               batch_size= 32,\n",
        "                                               target_size=(224, 224),\n",
        "                                               class_mode=\"binary\",\n",
        "                                               seed=42)\n",
        "valid_data = valid_datagen.flow_from_directory(test_dir,\n",
        "                                               batch_size=32,\n",
        "                                               target_size=(224, 224),\n",
        "                                               class_mode= \"binary\",\n",
        "                                               seed=42)\n",
        "#create a CNN model\n",
        "model_1 = tf.keras.models.Sequential([\n",
        "    tf.keras.layers.Conv2D(filters=10,\n",
        "                           kernel_size=3,\n",
        "                           activation=\"relu\",\n",
        "                           input_shape=(224,224,3)),\n",
        "    tf.keras.layers.Conv2D(10, 3, activation=\"relu\"),\n",
        "    tf.keras.layers.MaxPool2D(pool_size=2,\n",
        "                              padding=\"valid\"),\n",
        "    tf.keras.layers.Conv2D(10, 3, activation=\"relu\"),\n",
        "    tf.keras.layers.Conv2D(10, 3, activation=\"sigmoid\"), \n",
        "    tf.keras.layers.MaxPool2D(2),\n",
        "    tf.keras.layers.Flatten(),\n",
        "    tf.keras.layers.Dense(1, activation=\"sigmoid\") #binary activation function                          \n",
        "])\n",
        "\n",
        "# compile the model \n",
        "\n",
        "model_1.compile(loss=\"binary_crossentropy\",\n",
        "                optimizer = tf.keras.optimizers.Adam(),\n",
        "                metrics = [\"accuracy\"])\n",
        "\n",
        "# Fit the model\n",
        "history_1 = model_1.fit(train_data,\n",
        "                        epochs=5,\n",
        "                        steps_per_epoch=len(train_data),\n",
        "                        validation_data = valid_data,\n",
        "                        validation_steps=len(valid_data)\n",
        "                        )\n",
        "\n",
        "\n",
        "\n"
      ],
      "metadata": {
        "colab": {
          "base_uri": "https://localhost:8080/"
        },
        "id": "t6oirnmQQKHi",
        "outputId": "acad977a-173b-4dc7-8e95-00c8408b9e08"
      },
      "execution_count": null,
      "outputs": [
        {
          "output_type": "stream",
          "name": "stdout",
          "text": [
            "Found 1500 images belonging to 2 classes.\n",
            "Found 500 images belonging to 2 classes.\n",
            "Epoch 1/5\n",
            "47/47 [==============================] - 23s 208ms/step - loss: 1.4204 - accuracy: 0.5393 - val_loss: 0.5575 - val_accuracy: 0.7340\n",
            "Epoch 2/5\n",
            "47/47 [==============================] - 9s 190ms/step - loss: 0.5345 - accuracy: 0.7513 - val_loss: 0.4625 - val_accuracy: 0.8080\n",
            "Epoch 3/5\n",
            "47/47 [==============================] - 9s 190ms/step - loss: 0.4958 - accuracy: 0.7773 - val_loss: 0.4657 - val_accuracy: 0.7700\n",
            "Epoch 4/5\n",
            "47/47 [==============================] - 9s 188ms/step - loss: 0.4892 - accuracy: 0.7780 - val_loss: 0.4237 - val_accuracy: 0.8140\n",
            "Epoch 5/5\n",
            "47/47 [==============================] - 9s 190ms/step - loss: 0.4820 - accuracy: 0.7767 - val_loss: 0.4075 - val_accuracy: 0.8460\n"
          ]
        }
      ]
    },
    {
      "cell_type": "code",
      "source": [
        "# define training and test directories\n",
        "train_dir = \"pizza_steak/train/\"\n",
        "test_dir = \"pizza_steak/test/\"\n",
        "\n",
        "# creating train and test data generators and rescale the data\n",
        "## ImageDataGenerator helps to create the data into batches \n",
        "from tensorflow.keras.preprocessing.image import ImageDataGenerator\n",
        "train_datagen = ImageDataGenerator(rescale=1/255.)\n",
        "test_datagen = ImageDataGenerator(rescale = 1/255.)\n",
        "\n",
        "# turning data into batches\n",
        "train_data = train_datagen.flow_from_directory(directory=train_dir,\n",
        "                                               target_size =(224, 224),\n",
        "                                               class_mode = 'binary',\n",
        "                                               batch_size=32)\n",
        "test_data = test_datagen.flow_from_directory(directory= test_dir,\n",
        "                                             target_size=(224, 224),\n",
        "                                             class_mode=\"binary\",\n",
        "                                             batch_size = 32)\n",
        "\n",
        "\n"
      ],
      "metadata": {
        "colab": {
          "base_uri": "https://localhost:8080/"
        },
        "id": "VcFZC_LbbkGk",
        "outputId": "02fddf10-ba99-43c1-c5d8-adaa6b00ea1d"
      },
      "execution_count": null,
      "outputs": [
        {
          "output_type": "stream",
          "name": "stdout",
          "text": [
            "Found 1500 images belonging to 2 classes.\n",
            "Found 500 images belonging to 2 classes.\n"
          ]
        }
      ]
    },
    {
      "cell_type": "code",
      "source": [
        "# Make the creating of our model a little easier\n",
        "\n",
        "from tensorflow.keras.optimizers import Adam\n",
        "from tensorflow.keras.layers import Dense, Flatten, Conv2D, MaxPool2D, Activation\n",
        "from tensorflow.keras import Sequential"
      ],
      "metadata": {
        "id": "2vVm6KXleJEW"
      },
      "execution_count": null,
      "outputs": []
    },
    {
      "cell_type": "code",
      "source": [
        "# create the model (this can be oour baseline, a 3 layer convolutional neural network)\n",
        "model_4 = Sequential([\n",
        "    Conv2D(filters=10, # number feature extractractos that will be moving on our image\n",
        "           kernel_size=3, # it will look a space of 3x3 each time.\n",
        "           strides=1, # the number of pixels a filter will move accross as it covers the image\n",
        "           padding='valid', \n",
        "           activation='relu',\n",
        "           input_shape=(224, 224, 3)),\n",
        "    Conv2D(10, 3, activation='relu'),\n",
        "    Conv2D(10, 3, activation='relu'),\n",
        "    Flatten(),\n",
        "    Dense(1, activation='sigmoid')\n",
        "])\n",
        "\n",
        "model_4.compile(loss='binary_crossentropy',\n",
        "                optimizer=Adam(),\n",
        "                metrics =['accuracy'])\n",
        "history_4 = model_4.fit(train_data,\n",
        "                        epochs=5,\n",
        "                        steps_per_epoch=len(train_data),\n",
        "                        validation_data = test_data,\n",
        "                        validation_steps=len(test_data))\n",
        "\n"
      ],
      "metadata": {
        "colab": {
          "base_uri": "https://localhost:8080/"
        },
        "id": "8elaz09qf8H-",
        "outputId": "109eabb7-0e79-42a2-9fc0-981b5c643bb1"
      },
      "execution_count": null,
      "outputs": [
        {
          "output_type": "stream",
          "name": "stdout",
          "text": [
            "Epoch 1/5\n",
            "47/47 [==============================] - 10s 199ms/step - loss: 1.0144 - accuracy: 0.6833 - val_loss: 0.4553 - val_accuracy: 0.7840\n",
            "Epoch 2/5\n",
            "47/47 [==============================] - 9s 190ms/step - loss: 0.4236 - accuracy: 0.8127 - val_loss: 0.3901 - val_accuracy: 0.8360\n",
            "Epoch 3/5\n",
            "47/47 [==============================] - 9s 189ms/step - loss: 0.3180 - accuracy: 0.8733 - val_loss: 0.3632 - val_accuracy: 0.8560\n",
            "Epoch 4/5\n",
            "47/47 [==============================] - 9s 189ms/step - loss: 0.2008 - accuracy: 0.9367 - val_loss: 0.3639 - val_accuracy: 0.8240\n",
            "Epoch 5/5\n",
            "47/47 [==============================] - 9s 189ms/step - loss: 0.0823 - accuracy: 0.9807 - val_loss: 0.4500 - val_accuracy: 0.8100\n"
          ]
        }
      ]
    },
    {
      "cell_type": "code",
      "source": [
        "#create the model (this can br our baseline, a 3 layer cnn)\n",
        "model_5 = Sequential([\n",
        "    Conv2D(10,3,activation='relu',input_shape=(224, 224, 3)),\n",
        "    MaxPool2D(pool_size=2),\n",
        "    Conv2D(10, 3, activation='relu'),\n",
        "    MaxPool2D(),\n",
        "    Conv2D(10, 3, activation=\"relu\"),\n",
        "    MaxPool2D(),\n",
        "    Flatten(),\n",
        "    Dense(1, activation='sigmoid')\n",
        "])\n",
        "# compile model(same as model_4)\n",
        "model_5.compile(loss='binary_crossentropy',\n",
        "                optimizer=Adam(),\n",
        "                metrics=['accuracy'])\n",
        "\n",
        "# fit the model\n",
        "history_5 = model_5.fit(train_data,\n",
        "                        epochs=5,\n",
        "                        steps_per_epoch=len(train_data),\n",
        "                        validation_data = test_data,\n",
        "                        validation_steps=len(test_data))\n"
      ],
      "metadata": {
        "colab": {
          "base_uri": "https://localhost:8080/"
        },
        "id": "s4yzRu1Pj3Et",
        "outputId": "d4762995-aed9-4109-d485-0bb5719954be"
      },
      "execution_count": null,
      "outputs": [
        {
          "output_type": "stream",
          "name": "stdout",
          "text": [
            "Epoch 1/5\n",
            "47/47 [==============================] - 9s 187ms/step - loss: 0.6289 - accuracy: 0.6540 - val_loss: 0.5088 - val_accuracy: 0.7380\n",
            "Epoch 2/5\n",
            "47/47 [==============================] - 9s 183ms/step - loss: 0.4762 - accuracy: 0.7847 - val_loss: 0.4858 - val_accuracy: 0.7380\n",
            "Epoch 3/5\n",
            "47/47 [==============================] - 9s 201ms/step - loss: 0.4185 - accuracy: 0.8093 - val_loss: 0.3464 - val_accuracy: 0.8520\n",
            "Epoch 4/5\n",
            "47/47 [==============================] - 9s 182ms/step - loss: 0.3900 - accuracy: 0.8227 - val_loss: 0.3350 - val_accuracy: 0.8600\n",
            "Epoch 5/5\n",
            "47/47 [==============================] - 9s 185ms/step - loss: 0.3810 - accuracy: 0.8293 - val_loss: 0.3469 - val_accuracy: 0.8480\n"
          ]
        }
      ]
    },
    {
      "cell_type": "code",
      "source": [
        "# generating modle number 6\n",
        "model_6 = Sequential([\n",
        "    Conv2D(filters=10,\n",
        "           kernel_size=3,\n",
        "           activation=\"relu\",\n",
        "           input_shape=(224, 224, 3)),\n",
        "    MaxPool2D(pool_size=2),\n",
        "    Conv2D(10, 3, activation=\"relu\"),\n",
        "    MaxPool2D(),\n",
        "    Conv2D(10, 3, activation=\"relu\"),\n",
        "    MaxPool2D(),\n",
        "    Flatten(),\n",
        "    Dense(1, activation='sigmoid')\n",
        "])\n",
        "model_6.compile(loss='binarycrossentropy',\n",
        "                optimizer=Adam(),\n",
        "                metrics=[\"accuracy\"])\n",
        "history_6= model_6.fit(epochs=5,\n",
        "                       steps_per_epoch=len(train_data),\n",
        "                       validation_data=test_data,\n",
        "                       validation_steps=len(validation_data))"
      ],
      "metadata": {
        "colab": {
          "base_uri": "https://localhost:8080/",
          "height": 200
        },
        "id": "j4eBFW8RONOr",
        "outputId": "d7cfe9c1-6ed4-444a-f47e-f1222ada12c9"
      },
      "execution_count": null,
      "outputs": [
        {
          "output_type": "error",
          "ename": "NameError",
          "evalue": "ignored",
          "traceback": [
            "\u001b[0;31m---------------------------------------------------------------------------\u001b[0m",
            "\u001b[0;31mNameError\u001b[0m                                 Traceback (most recent call last)",
            "\u001b[0;32m<ipython-input-29-ad7997cb05f1>\u001b[0m in \u001b[0;36m<module>\u001b[0;34m\u001b[0m\n\u001b[1;32m     19\u001b[0m                        \u001b[0msteps_per_epoch\u001b[0m\u001b[0;34m=\u001b[0m\u001b[0mlen\u001b[0m\u001b[0;34m(\u001b[0m\u001b[0mtrain_data\u001b[0m\u001b[0;34m)\u001b[0m\u001b[0;34m,\u001b[0m\u001b[0;34m\u001b[0m\u001b[0;34m\u001b[0m\u001b[0m\n\u001b[1;32m     20\u001b[0m                        \u001b[0mvalidation_data\u001b[0m\u001b[0;34m=\u001b[0m\u001b[0mtest_data\u001b[0m\u001b[0;34m,\u001b[0m\u001b[0;34m\u001b[0m\u001b[0;34m\u001b[0m\u001b[0m\n\u001b[0;32m---> 21\u001b[0;31m                        validation_steps=len(validation_data))\n\u001b[0m",
            "\u001b[0;31mNameError\u001b[0m: name 'validation_data' is not defined"
          ]
        }
      ]
    },
    {
      "cell_type": "code",
      "source": [
        "#create a function to import an image and resize it to be able to use with \n",
        "def load_andprep_image(filename, img_shape=224):\n",
        "  img = tf.io.read_file(filename)\n",
        "  img = tf.image.decode_image(img, channels=3)\n",
        "  img = tf.image.resize(img, size=[img_shape, img_shape])\n",
        "  img = img/255.\n",
        "  return img"
      ],
      "metadata": {
        "id": "_MVXDAYjXJb1"
      },
      "execution_count": null,
      "outputs": []
    },
    {
      "cell_type": "code",
      "source": [
        "u=load_andprep_image(\"/content/pizza.jpg\")\n",
        "u"
      ],
      "metadata": {
        "colab": {
          "base_uri": "https://localhost:8080/"
        },
        "id": "cK2AWLl6__zq",
        "outputId": "3a1844ba-43be-4064-9653-dd9035762821"
      },
      "execution_count": null,
      "outputs": [
        {
          "output_type": "execute_result",
          "data": {
            "text/plain": [
              "<tf.Tensor: shape=(224, 224, 3), dtype=float32, numpy=\n",
              "array([[[0.00392157, 0.00392157, 0.00392157],\n",
              "        [0.00392157, 0.00392157, 0.00392157],\n",
              "        [0.00392157, 0.00392157, 0.00392157],\n",
              "        ...,\n",
              "        [0.1826925 , 0.13171211, 0.09742464],\n",
              "        [0.17686446, 0.12588407, 0.09451152],\n",
              "        [0.1604691 , 0.10948871, 0.07811616]],\n",
              "\n",
              "       [[0.00392157, 0.00392157, 0.00392157],\n",
              "        [0.00392157, 0.00392157, 0.00392157],\n",
              "        [0.00392157, 0.00392157, 0.00392157],\n",
              "        ...,\n",
              "        [0.21882872, 0.16482836, 0.14855559],\n",
              "        [0.21257874, 0.15555844, 0.13324577],\n",
              "        [0.19508454, 0.14026192, 0.1168504 ]],\n",
              "\n",
              "       [[0.00392157, 0.00392157, 0.00392157],\n",
              "        [0.00392157, 0.00392157, 0.00392157],\n",
              "        [0.00392157, 0.00392157, 0.00392157],\n",
              "        ...,\n",
              "        [0.24437143, 0.19280456, 0.17992815],\n",
              "        [0.23928024, 0.1815684 , 0.1720271 ],\n",
              "        [0.22441518, 0.16670334, 0.15716203]],\n",
              "\n",
              "       ...,\n",
              "\n",
              "       [[0.5139089 , 0.2374589 , 0.08300142],\n",
              "        [0.5784467 , 0.27066457, 0.11337793],\n",
              "        [0.63849884, 0.3158973 , 0.14544901],\n",
              "        ...,\n",
              "        [0.30972487, 0.18593265, 0.11321668],\n",
              "        [0.2958806 , 0.18607666, 0.10372371],\n",
              "        [0.28212726, 0.17553765, 0.09318472]],\n",
              "\n",
              "       [[0.41732916, 0.186179  , 0.08283481],\n",
              "        [0.46248886, 0.21234207, 0.09109326],\n",
              "        [0.5320394 , 0.26013207, 0.12644713],\n",
              "        ...,\n",
              "        [0.31082836, 0.19106278, 0.12047454],\n",
              "        [0.2868562 , 0.18097383, 0.10646404],\n",
              "        [0.27662832, 0.17074597, 0.08839303]],\n",
              "\n",
              "       [[0.3194178 , 0.13091065, 0.05024551],\n",
              "        [0.35904324, 0.15317398, 0.05803643],\n",
              "        [0.42124242, 0.19138737, 0.08536275],\n",
              "        ...,\n",
              "        [0.29291847, 0.17919299, 0.10860476],\n",
              "        [0.27224275, 0.17165656, 0.09449869],\n",
              "        [0.26767337, 0.16179104, 0.07943809]]], dtype=float32)>"
            ]
          },
          "metadata": {},
          "execution_count": 31
        }
      ]
    },
    {
      "cell_type": "code",
      "source": [
        "model_5.predict(u)"
      ],
      "metadata": {
        "colab": {
          "base_uri": "https://localhost:8080/",
          "height": 710
        },
        "id": "GchJM6jWGQCB",
        "outputId": "8f34195c-9db4-40d0-b9f6-65fac9db1091"
      },
      "execution_count": null,
      "outputs": [
        {
          "output_type": "error",
          "ename": "ValueError",
          "evalue": "ignored",
          "traceback": [
            "\u001b[0;31m---------------------------------------------------------------------------\u001b[0m",
            "\u001b[0;31mValueError\u001b[0m                                Traceback (most recent call last)",
            "\u001b[0;32m<ipython-input-32-0f8bf18bba16>\u001b[0m in \u001b[0;36m<module>\u001b[0;34m\u001b[0m\n\u001b[0;32m----> 1\u001b[0;31m \u001b[0mmodel_5\u001b[0m\u001b[0;34m.\u001b[0m\u001b[0mpredict\u001b[0m\u001b[0;34m(\u001b[0m\u001b[0mu\u001b[0m\u001b[0;34m)\u001b[0m\u001b[0;34m\u001b[0m\u001b[0;34m\u001b[0m\u001b[0m\n\u001b[0m",
            "\u001b[0;32m/usr/local/lib/python3.7/dist-packages/keras/utils/traceback_utils.py\u001b[0m in \u001b[0;36merror_handler\u001b[0;34m(*args, **kwargs)\u001b[0m\n\u001b[1;32m     65\u001b[0m     \u001b[0;32mexcept\u001b[0m \u001b[0mException\u001b[0m \u001b[0;32mas\u001b[0m \u001b[0me\u001b[0m\u001b[0;34m:\u001b[0m  \u001b[0;31m# pylint: disable=broad-except\u001b[0m\u001b[0;34m\u001b[0m\u001b[0;34m\u001b[0m\u001b[0m\n\u001b[1;32m     66\u001b[0m       \u001b[0mfiltered_tb\u001b[0m \u001b[0;34m=\u001b[0m \u001b[0m_process_traceback_frames\u001b[0m\u001b[0;34m(\u001b[0m\u001b[0me\u001b[0m\u001b[0;34m.\u001b[0m\u001b[0m__traceback__\u001b[0m\u001b[0;34m)\u001b[0m\u001b[0;34m\u001b[0m\u001b[0;34m\u001b[0m\u001b[0m\n\u001b[0;32m---> 67\u001b[0;31m       \u001b[0;32mraise\u001b[0m \u001b[0me\u001b[0m\u001b[0;34m.\u001b[0m\u001b[0mwith_traceback\u001b[0m\u001b[0;34m(\u001b[0m\u001b[0mfiltered_tb\u001b[0m\u001b[0;34m)\u001b[0m \u001b[0;32mfrom\u001b[0m \u001b[0;32mNone\u001b[0m\u001b[0;34m\u001b[0m\u001b[0;34m\u001b[0m\u001b[0m\n\u001b[0m\u001b[1;32m     68\u001b[0m     \u001b[0;32mfinally\u001b[0m\u001b[0;34m:\u001b[0m\u001b[0;34m\u001b[0m\u001b[0;34m\u001b[0m\u001b[0m\n\u001b[1;32m     69\u001b[0m       \u001b[0;32mdel\u001b[0m \u001b[0mfiltered_tb\u001b[0m\u001b[0;34m\u001b[0m\u001b[0;34m\u001b[0m\u001b[0m\n",
            "\u001b[0;32m/usr/local/lib/python3.7/dist-packages/tensorflow/python/framework/func_graph.py\u001b[0m in \u001b[0;36mautograph_handler\u001b[0;34m(*args, **kwargs)\u001b[0m\n\u001b[1;32m   1145\u001b[0m           \u001b[0;32mexcept\u001b[0m \u001b[0mException\u001b[0m \u001b[0;32mas\u001b[0m \u001b[0me\u001b[0m\u001b[0;34m:\u001b[0m  \u001b[0;31m# pylint:disable=broad-except\u001b[0m\u001b[0;34m\u001b[0m\u001b[0;34m\u001b[0m\u001b[0m\n\u001b[1;32m   1146\u001b[0m             \u001b[0;32mif\u001b[0m \u001b[0mhasattr\u001b[0m\u001b[0;34m(\u001b[0m\u001b[0me\u001b[0m\u001b[0;34m,\u001b[0m \u001b[0;34m\"ag_error_metadata\"\u001b[0m\u001b[0;34m)\u001b[0m\u001b[0;34m:\u001b[0m\u001b[0;34m\u001b[0m\u001b[0;34m\u001b[0m\u001b[0m\n\u001b[0;32m-> 1147\u001b[0;31m               \u001b[0;32mraise\u001b[0m \u001b[0me\u001b[0m\u001b[0;34m.\u001b[0m\u001b[0mag_error_metadata\u001b[0m\u001b[0;34m.\u001b[0m\u001b[0mto_exception\u001b[0m\u001b[0;34m(\u001b[0m\u001b[0me\u001b[0m\u001b[0;34m)\u001b[0m\u001b[0;34m\u001b[0m\u001b[0;34m\u001b[0m\u001b[0m\n\u001b[0m\u001b[1;32m   1148\u001b[0m             \u001b[0;32melse\u001b[0m\u001b[0;34m:\u001b[0m\u001b[0;34m\u001b[0m\u001b[0;34m\u001b[0m\u001b[0m\n\u001b[1;32m   1149\u001b[0m               \u001b[0;32mraise\u001b[0m\u001b[0;34m\u001b[0m\u001b[0;34m\u001b[0m\u001b[0m\n",
            "\u001b[0;31mValueError\u001b[0m: in user code:\n\n    File \"/usr/local/lib/python3.7/dist-packages/keras/engine/training.py\", line 1801, in predict_function  *\n        return step_function(self, iterator)\n    File \"/usr/local/lib/python3.7/dist-packages/keras/engine/training.py\", line 1790, in step_function  **\n        outputs = model.distribute_strategy.run(run_step, args=(data,))\n    File \"/usr/local/lib/python3.7/dist-packages/keras/engine/training.py\", line 1783, in run_step  **\n        outputs = model.predict_step(data)\n    File \"/usr/local/lib/python3.7/dist-packages/keras/engine/training.py\", line 1751, in predict_step\n        return self(x, training=False)\n    File \"/usr/local/lib/python3.7/dist-packages/keras/utils/traceback_utils.py\", line 67, in error_handler\n        raise e.with_traceback(filtered_tb) from None\n    File \"/usr/local/lib/python3.7/dist-packages/keras/engine/input_spec.py\", line 264, in assert_input_compatibility\n        raise ValueError(f'Input {input_index} of layer \"{layer_name}\" is '\n\n    ValueError: Input 0 of layer \"sequential_2\" is incompatible with the layer: expected shape=(None, 224, 224, 3), found shape=(32, 224, 3)\n"
          ]
        }
      ]
    },
    {
      "cell_type": "code",
      "source": [
        "print(f\"Shape before new dimension: {u.shape}\")\n",
        "u = tf.expand_dims(u, axis=0) # add an extra dimension at axis 0\n",
        "#steak = steak[tf.newaxis, ...] # alternative to the above, '...' is short for 'every other dimension'\n",
        "print(f\"Shape after new dimension: {u.shape}\")\n",
        "u"
      ],
      "metadata": {
        "colab": {
          "base_uri": "https://localhost:8080/"
        },
        "id": "9jOJAD2DGllf",
        "outputId": "4ed4a083-5d52-41bb-874e-f17b416d74e4"
      },
      "execution_count": null,
      "outputs": [
        {
          "output_type": "stream",
          "name": "stdout",
          "text": [
            "Shape before new dimension: (224, 224, 3)\n",
            "Shape after new dimension: (1, 224, 224, 3)\n"
          ]
        },
        {
          "output_type": "execute_result",
          "data": {
            "text/plain": [
              "<tf.Tensor: shape=(1, 224, 224, 3), dtype=float32, numpy=\n",
              "array([[[[0.00392157, 0.00392157, 0.00392157],\n",
              "         [0.00392157, 0.00392157, 0.00392157],\n",
              "         [0.00392157, 0.00392157, 0.00392157],\n",
              "         ...,\n",
              "         [0.1826925 , 0.13171211, 0.09742464],\n",
              "         [0.17686446, 0.12588407, 0.09451152],\n",
              "         [0.1604691 , 0.10948871, 0.07811616]],\n",
              "\n",
              "        [[0.00392157, 0.00392157, 0.00392157],\n",
              "         [0.00392157, 0.00392157, 0.00392157],\n",
              "         [0.00392157, 0.00392157, 0.00392157],\n",
              "         ...,\n",
              "         [0.21882872, 0.16482836, 0.14855559],\n",
              "         [0.21257874, 0.15555844, 0.13324577],\n",
              "         [0.19508454, 0.14026192, 0.1168504 ]],\n",
              "\n",
              "        [[0.00392157, 0.00392157, 0.00392157],\n",
              "         [0.00392157, 0.00392157, 0.00392157],\n",
              "         [0.00392157, 0.00392157, 0.00392157],\n",
              "         ...,\n",
              "         [0.24437143, 0.19280456, 0.17992815],\n",
              "         [0.23928024, 0.1815684 , 0.1720271 ],\n",
              "         [0.22441518, 0.16670334, 0.15716203]],\n",
              "\n",
              "        ...,\n",
              "\n",
              "        [[0.5139089 , 0.2374589 , 0.08300142],\n",
              "         [0.5784467 , 0.27066457, 0.11337793],\n",
              "         [0.63849884, 0.3158973 , 0.14544901],\n",
              "         ...,\n",
              "         [0.30972487, 0.18593265, 0.11321668],\n",
              "         [0.2958806 , 0.18607666, 0.10372371],\n",
              "         [0.28212726, 0.17553765, 0.09318472]],\n",
              "\n",
              "        [[0.41732916, 0.186179  , 0.08283481],\n",
              "         [0.46248886, 0.21234207, 0.09109326],\n",
              "         [0.5320394 , 0.26013207, 0.12644713],\n",
              "         ...,\n",
              "         [0.31082836, 0.19106278, 0.12047454],\n",
              "         [0.2868562 , 0.18097383, 0.10646404],\n",
              "         [0.27662832, 0.17074597, 0.08839303]],\n",
              "\n",
              "        [[0.3194178 , 0.13091065, 0.05024551],\n",
              "         [0.35904324, 0.15317398, 0.05803643],\n",
              "         [0.42124242, 0.19138737, 0.08536275],\n",
              "         ...,\n",
              "         [0.29291847, 0.17919299, 0.10860476],\n",
              "         [0.27224275, 0.17165656, 0.09449869],\n",
              "         [0.26767337, 0.16179104, 0.07943809]]]], dtype=float32)>"
            ]
          },
          "metadata": {},
          "execution_count": 35
        }
      ]
    },
    {
      "cell_type": "code",
      "source": [
        "model_5.predict(u)"
      ],
      "metadata": {
        "colab": {
          "base_uri": "https://localhost:8080/"
        },
        "id": "Kt47MhXmHIcE",
        "outputId": "c8ff871c-3a85-4870-de30-c1b2f071a894"
      },
      "execution_count": null,
      "outputs": [
        {
          "output_type": "execute_result",
          "data": {
            "text/plain": [
              "array([[0.00963922]], dtype=float32)"
            ]
          },
          "metadata": {},
          "execution_count": 36
        }
      ]
    }
  ]
}